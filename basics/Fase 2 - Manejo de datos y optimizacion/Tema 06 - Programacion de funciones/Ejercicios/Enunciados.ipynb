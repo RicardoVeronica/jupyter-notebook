{
 "cells": [
  {
   "cell_type": "markdown",
   "metadata": {},
   "source": [
    "# Tema 06: Programación de funciones (Enunciados)\n",
    "*Nota: Estos ejercicios son optativos para hacer al final de la unidad y están pensados para apoyar tu aprendizaje*."
   ]
  },
  {
   "cell_type": "markdown",
   "metadata": {},
   "source": [
    "**1) Realiza una función llamada area_rectangulo() que devuelva el área del rectangulo a partir de una base y una altura. Calcula el área de un rectángulo de 15 de base y 10 de altura.**\n",
    "\n",
    "*Nota: El área de un rectángulo se obtiene al multiplicar la base por la altura.*"
   ]
  },
  {
   "cell_type": "code",
   "execution_count": 5,
   "metadata": {},
   "outputs": [
    {
     "name": "stdout",
     "output_type": "stream",
     "text": [
      "75.0\n"
     ]
    }
   ],
   "source": [
    "def area_rectangulo(b, a):\n",
    "    return b * a / 2\n",
    "    \n",
    "\n",
    "print(area_rectangulo(15, 10))"
   ]
  },
  {
   "cell_type": "markdown",
   "metadata": {},
   "source": [
    "**2) Realiza una función llamada area_circulo() que devuelva el área de un círculo a partir de un radio. Calcula el área de un círculo de 5 de radio: **\n",
    "\n",
    "Nota: El área de un círculo se obtiene al elevar el radio a dos y multiplicando el resultado por el número pi. Puedes utilizar el valor 3.14159 como pi o importarlo del módulo math:\n",
    "```python\n",
    "import math\n",
    "print(math.pi)\n",
    "> 3.1415...\n",
    "```"
   ]
  },
  {
   "cell_type": "code",
   "execution_count": 6,
   "metadata": {},
   "outputs": [
    {
     "name": "stdout",
     "output_type": "stream",
     "text": [
      "315.0\n"
     ]
    }
   ],
   "source": [
    "def area_circulo(r):\n",
    "    return (r ** 2) * 3.15\n",
    "    \n",
    "\n",
    "print(area_circulo(10))"
   ]
  },
  {
   "cell_type": "markdown",
   "metadata": {},
   "source": [
    "**3) Realiza una función llamada relacion() que a partir de dos números cumpla lo siguiente**:\n",
    "\n",
    "* Si el primer número es mayor que el segundo, debe devolver 1.\n",
    "* Si el primer número es menor que el segundo, debe devolver -1.\n",
    "* Si ambos números son iguales, debe devolver un 0.\n",
    "\n",
    "** Comprueba la relación entre los números: '5 y 10', '10 y 5' y '5 y 5'**"
   ]
  },
  {
   "cell_type": "code",
   "execution_count": 10,
   "metadata": {},
   "outputs": [
    {
     "name": "stdout",
     "output_type": "stream",
     "text": [
      "-1\n",
      "1\n",
      "0\n"
     ]
    }
   ],
   "source": [
    "def relacion(num, num2):\n",
    "    if num > num2:\n",
    "        return 1\n",
    "    elif num < num2:\n",
    "        return -1\n",
    "    elif num == num2:\n",
    "        return 0\n",
    "    \n",
    "    \n",
    "print(relacion(5, 10))\n",
    "print(relacion(10, 5))\n",
    "print(relacion(5, 5))"
   ]
  },
  {
   "cell_type": "markdown",
   "metadata": {},
   "source": [
    "**4) Realiza una función llamada intermedio() que a partir de dos números, devuelva su punto intermedio:**\n",
    "\n",
    "*Nota: El número intermedio de dos números corresponde a la suma de los dos números dividida entre 2*\n",
    "\n",
    "** Comprueba el punto intermedio entre -12 y 24**"
   ]
  },
  {
   "cell_type": "code",
   "execution_count": 13,
   "metadata": {},
   "outputs": [
    {
     "name": "stdout",
     "output_type": "stream",
     "text": [
      "6.0\n"
     ]
    }
   ],
   "source": [
    "def intermedio(num1, num2):\n",
    "    return (num1 + num2) / 2\n",
    "\n",
    "\n",
    "print(intermedio(-12, 24))"
   ]
  },
  {
   "cell_type": "markdown",
   "metadata": {},
   "source": [
    "**5) Realiza una función llamada recortar() que reciba tres parámetros. El primero es el número a recortar, el segundo es el límite inferior y el tercero el límite superior. La función tendrá que cumplir lo siguiente:**\n",
    "\n",
    "* Devolver el límite inferior si el número es menor que éste\n",
    "* Devolver el límite superior si el número es mayor que éste.\n",
    "* Devolver el número sin cambios si no se supera ningún límite.\n",
    "\n",
    "** Comprueba el resultado de recortar 15 entre los límites 0 y 10**"
   ]
  },
  {
   "cell_type": "code",
   "execution_count": 15,
   "metadata": {},
   "outputs": [
    {
     "name": "stdout",
     "output_type": "stream",
     "text": [
      "10\n"
     ]
    }
   ],
   "source": [
    "def recortar(num, mini, maxi):\n",
    "    if num < mini:\n",
    "        return mini\n",
    "    elif num > maxi:\n",
    "        return maxi\n",
    "    else:\n",
    "        return num\n",
    "    \n",
    "\n",
    "print(recortar(14, 0, 10))"
   ]
  },
  {
   "cell_type": "markdown",
   "metadata": {},
   "source": [
    "**6) Realiza una función separar() que tome una lista de números enteros y devuelva dos listas ordenadas. La primera con los números pares, y la segunda con los números impares:**\n",
    "\n",
    "Por ejemplo: \n",
    "\n",
    "```python\n",
    "pares, impares = separar([6,5,2,1,7])\n",
    "print(pares)   # valdría [2, 6]\n",
    "print(impares)  # valdría [1, 5, 7]\n",
    "\n",
    "```\n",
    "\n",
    "*Nota: Para ordenar una lista automáticamente puedes usar el método .sort().*"
   ]
  },
  {
   "cell_type": "code",
   "execution_count": 29,
   "metadata": {},
   "outputs": [
    {
     "name": "stdout",
     "output_type": "stream",
     "text": [
      "([-12, 84, 20], [13, -33, 101, 9])\n"
     ]
    }
   ],
   "source": [
    "numeros = [-12, 84, 13, 20, -33, 101, 9]\n",
    "\n",
    "def separar(some_list):\n",
    "    list_par = []\n",
    "    list_none = []\n",
    "    \n",
    "    for i in some_list:\n",
    "        if i % 2 == 0:\n",
    "            list_par.append(i)\n",
    "        else:\n",
    "            list_none.append(i)\n",
    "    return list_par, list_none\n",
    "        \n",
    "        \n",
    "print(separar(numeros))"
   ]
  }
 ],
 "metadata": {
  "anaconda-cloud": {},
  "kernelspec": {
   "display_name": "Python 3",
   "language": "python",
   "name": "python3"
  },
  "language_info": {
   "codemirror_mode": {
    "name": "ipython",
    "version": 3
   },
   "file_extension": ".py",
   "mimetype": "text/x-python",
   "name": "python",
   "nbconvert_exporter": "python",
   "pygments_lexer": "ipython3",
   "version": "3.6.3"
  }
 },
 "nbformat": 4,
 "nbformat_minor": 1
}
