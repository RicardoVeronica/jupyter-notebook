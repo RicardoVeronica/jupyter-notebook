{
 "cells": [
  {
   "cell_type": "markdown",
   "metadata": {},
   "source": [
    "# Tema 07: Gestión de errores (Enunciados)\n",
    "*Nota: Estos ejercicios son optativos para hacer al final de la unidad y están pensados para apoyar tu aprendizaje*."
   ]
  },
  {
   "cell_type": "markdown",
   "metadata": {},
   "source": [
    "**1) Localiza el error en el siguiente bloque de código. Crea una excepción para evitar que el programa se bloquee y además explica en un mensaje al usuario la causa y/o solución:**"
   ]
  },
  {
   "cell_type": "code",
   "execution_count": 2,
   "metadata": {},
   "outputs": [
    {
     "name": "stdout",
     "output_type": "stream",
     "text": [
      "Zero Division Error\n"
     ]
    }
   ],
   "source": [
    "# Completa el ejercicio aquí\n",
    "try:\n",
    "    resultado = 10/0\n",
    "except ZeroDivisionError:\n",
    "    print('Zero Division Error')"
   ]
  },
  {
   "cell_type": "markdown",
   "metadata": {},
   "source": [
    "**2) Localiza el error en el siguiente bloque de código.  Crea una excepción para evitar que el programa se bloquee y además explica en un mensaje al usuario la causa y/o solución:**"
   ]
  },
  {
   "cell_type": "code",
   "execution_count": 3,
   "metadata": {},
   "outputs": [
    {
     "name": "stdout",
     "output_type": "stream",
     "text": [
      "Index Error\n"
     ]
    }
   ],
   "source": [
    "# Completa el ejercicio aquí\n",
    "lista = [1, 2, 3, 4, 5]\n",
    "\n",
    "try:\n",
    "    lista[10]\n",
    "except IndexError:\n",
    "    print('Index Error')"
   ]
  },
  {
   "cell_type": "markdown",
   "metadata": {},
   "source": [
    "**3) Localiza el error en el siguiente bloque de código.  Crea una excepción para evitar que el programa se bloquee y además explica en un mensaje al usuario la causa y/o solución:**"
   ]
  },
  {
   "cell_type": "code",
   "execution_count": 4,
   "metadata": {},
   "outputs": [
    {
     "name": "stdout",
     "output_type": "stream",
     "text": [
      "Do not exist that key in the dict\n"
     ]
    }
   ],
   "source": [
    "# Completa el ejercicio aquí\n",
    "colores = { 'rojo':'red', 'verde':'green', 'negro':'black' } \n",
    "\n",
    "try:\n",
    "    colores['blanco']\n",
    "except KeyError:\n",
    "    print('Do not exist that key in the dict')"
   ]
  },
  {
   "cell_type": "markdown",
   "metadata": {},
   "source": [
    "**4) Localiza el error en el siguiente bloque de código.  Crea una excepción para evitar que el programa se bloquee y además explica en un mensaje al usuario la causa y/o solución:**"
   ]
  },
  {
   "cell_type": "code",
   "execution_count": 5,
   "metadata": {},
   "outputs": [
    {
     "name": "stdout",
     "output_type": "stream",
     "text": [
      "Error sum string and numbers\n"
     ]
    }
   ],
   "source": [
    "# Completa el ejercicio aquí\n",
    "try:\n",
    "    resultado = 15 + \"20\"\n",
    "except TypeError:\n",
    "    print('Error sum string and numbers')"
   ]
  },
  {
   "cell_type": "markdown",
   "metadata": {},
   "source": [
    "**5) Realiza una función llamada agregar_una_vez() que reciba una lista y un elemento. La función debe añadir el elemento al final de la lista con la condición de no repetir ningún elemento. Además si este elemento ya se encuentra en la lista se debe invocar un error de tipo ValueError que debes capturar y mostrar este mensaje en su lugar:**\n",
    "\n",
    "```\n",
    "  Error: Imposible añadir elementos duplicados => [elemento].\n",
    "```\n",
    "** Prueba de agregar los elementos 10, -2, \"Hola\" a la lista de elementos con la función una vez la has creado y luego muestra su contenido.**\n",
    "\n",
    "*Nota: Puedes utilizar la sintaxis: elemento in lista*"
   ]
  },
  {
   "cell_type": "code",
   "execution_count": 11,
   "metadata": {},
   "outputs": [
    {
     "name": "stdout",
     "output_type": "stream",
     "text": [
      "Error in -2\n",
      "[1, 5, -2, 10, 'hola']\n"
     ]
    }
   ],
   "source": [
    "elementos = [1, 5, -2]\n",
    "\n",
    "def agregar_una_vez(some_list, some_element):\n",
    "    try:\n",
    "        if some_element in some_list:\n",
    "            raise ValueError\n",
    "        else:\n",
    "            some_list.append(some_element)\n",
    "    except ValueError:\n",
    "        print('Error in {}'.format(some_element))\n",
    "    \n",
    "    \n",
    "agregar_una_vez(elementos, 10)\n",
    "agregar_una_vez(elementos, -2)\n",
    "agregar_una_vez(elementos, 'hola')\n",
    "print(elementos)"
   ]
  }
 ],
 "metadata": {
  "anaconda-cloud": {},
  "kernelspec": {
   "display_name": "Python 3",
   "language": "python",
   "name": "python3"
  },
  "language_info": {
   "codemirror_mode": {
    "name": "ipython",
    "version": 3
   },
   "file_extension": ".py",
   "mimetype": "text/x-python",
   "name": "python",
   "nbconvert_exporter": "python",
   "pygments_lexer": "ipython3",
   "version": "3.6.3"
  }
 },
 "nbformat": 4,
 "nbformat_minor": 1
}
